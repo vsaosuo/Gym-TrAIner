{
 "cells": [
  {
   "cell_type": "markdown",
   "id": "73f38ccc",
   "metadata": {},
   "source": [
    "# Data Preparation and Processing"
   ]
  },
  {
   "cell_type": "code",
   "execution_count": null,
   "id": "008c6c25",
   "metadata": {},
   "outputs": [],
   "source": [
    "#!pip install scikit-learn # install scikit-learn"
   ]
  },
  {
   "attachments": {},
   "cell_type": "markdown",
   "id": "d630c287",
   "metadata": {},
   "source": [
    "Code below derived from https://youtu.be/qFJeN9V1ZsI"
   ]
  },
  {
   "cell_type": "code",
   "execution_count": null,
   "id": "be27c50b",
   "metadata": {},
   "outputs": [],
   "source": [
    "conda list"
   ]
  },
  {
   "cell_type": "code",
   "execution_count": 1,
   "id": "68128232",
   "metadata": {},
   "outputs": [],
   "source": [
    "import numpy as np\n",
    "from random import randint\n",
    "from sklearn.utils import shuffle\n",
    "from sklearn.preprocessing import MinMaxScaler\n",
    "from IPython.display import Image\n",
    "import csv"
   ]
  },
  {
   "cell_type": "code",
   "execution_count": 2,
   "id": "27e7a34a",
   "metadata": {},
   "outputs": [],
   "source": [
    "train_labels = []\n",
    "train_samples = []"
   ]
  },
  {
   "cell_type": "markdown",
   "id": "3d5e667b",
   "metadata": {},
   "source": [
    "Lee J, Joo H, Lee J, Chee Y. Automatic Classification of Squat Posture Using Inertial Sensors: Deep Learning Approach. Sensors (Basel). 2020 Jan 8;20(2):361. doi: 10.3390/s20020361.\n",
    "<br><br> Based on this paper, we can classify squat move into 6 labels:\n",
    "<br> - Acceptable (ACC, 0)\n",
    "<br> - Anterior knee (AK, 1)\n",
    "<br> - Knee valgus (KVG, 2)\n",
    "<br> - Knee varus (KVR, 3)\n",
    "<br> - Half squat (HS, 4)\n",
    "<br> - Bent over (BO, 5)\n",
    "<br> - Other (OT, 6)"
   ]
  },
  {
   "cell_type": "code",
   "execution_count": 3,
   "id": "9c29a7fa",
   "metadata": {},
   "outputs": [],
   "source": [
    "# Image(filename='assets/normalizationApproach.jpg') "
   ]
  },
  {
   "cell_type": "code",
   "execution_count": 4,
   "id": "ac1500de",
   "metadata": {},
   "outputs": [],
   "source": [
    "## Read data from CSV file\n",
    "columns = ['left_knee_angle', 'left_hip_angle', 'left_ankle_angle', 'right_knee_angle', 'right_hip_angle', 'right_ankle_angle', 'left_hip_to_right_hip', 'left_torso_height_to_hip_width_ratio', 'right_torso_height_to_hip_width_ratio', 'shoulder_width_to_hip_width_ratio', 'left_thigh_height_to_hip_width_ratio', 'right_thigh_height_to_hip_width_ratio', 'left_shin_length_to_hip_width_ratio', 'right_shin_length_to_hip_width_ratio', 'left_ankle_to_left_heel_to_hip_width_ratio', 'left_heel_to_left_foot_index_to_hip_width_ratio', 'left_foot_index_to_left_ankle_to_hip_width_ratio', 'right_ankle_to_right_heel_to_hip_width_ratio', 'right_heel_to_right_foot_index_to_hip_width_ratio', 'right_foot_index_to_right_ankle_to_hip_width_ratio', 'knee_width_to_hip_width_ratio']\n",
    "labels = [\"acc\", \"ak\", \"bo\", \"kvg\", \"kvr\", \"hs\", \"others\"]\n",
    "path = 'assets/main_train.csv'\n",
    "\n",
    "with open(path, 'r') as file:\n",
    "\n",
    "    # Create a CSV reader object that reads the file as a dictionary\n",
    "    reader = csv.DictReader(file)\n",
    "\n",
    "    for r in reader:\n",
    "        if(labels.index(r['target']) != 6 and labels.index(r['target']) != 5):\n",
    "            \n",
    "            # Normalize vector\n",
    "            features = []\n",
    "        \n",
    "            for i in columns:\n",
    "                features.append(np.float_(r[i]))\n",
    "\n",
    "            # Add to arrays\n",
    "            train_samples.append(features)\n",
    "            train_labels.append(labels.index(r['target']))\n",
    "# print(train_labels)"
   ]
  },
  {
   "cell_type": "code",
   "execution_count": 5,
   "id": "d8d17752",
   "metadata": {},
   "outputs": [],
   "source": [
    "## Prepare input for Keras fit function\n",
    "train_labels = np.array(train_labels)\n",
    "train_samples = np.array(train_samples)\n",
    "train_labels, train_samples = shuffle(train_labels, train_samples) # This to eliminate order or patterns of the sample"
   ]
  },
  {
   "cell_type": "code",
   "execution_count": 6,
   "id": "d6068a61",
   "metadata": {},
   "outputs": [],
   "source": [
    "## Normalize the data to [0-1]\n",
    "scaler = MinMaxScaler(feature_range=(0,1))\n",
    "scaled_train_samples = scaler.fit_transform(train_samples) # reshape since fit_transform does not take 1D array\n"
   ]
  },
  {
   "cell_type": "markdown",
   "id": "07a49d80",
   "metadata": {},
   "source": [
    "# Sequential Model"
   ]
  },
  {
   "attachments": {},
   "cell_type": "markdown",
   "id": "fa37e90e",
   "metadata": {},
   "source": [
    "Code below derived from https://youtu.be/qFJeN9V1ZsI"
   ]
  },
  {
   "cell_type": "code",
   "execution_count": 7,
   "id": "47682ea6",
   "metadata": {},
   "outputs": [],
   "source": [
    "import tensorflow as tf\n",
    "from tensorflow import keras\n",
    "from tensorflow.keras.models import Sequential\n",
    "from tensorflow.keras.layers import Activation, Dense\n",
    "from tensorflow.keras.optimizers import Adam\n",
    "from tensorflow.keras.metrics import categorical_crossentropy"
   ]
  },
  {
   "cell_type": "code",
   "execution_count": 8,
   "id": "371d3cd3",
   "metadata": {},
   "outputs": [
    {
     "name": "stdout",
     "output_type": "stream",
     "text": [
      "Num GPU available:  1\n"
     ]
    }
   ],
   "source": [
    "## Running the model a GPU\n",
    "physical_device = tf.config.experimental.list_physical_devices('GPU')\n",
    "print(\"Num GPU available: \", len(physical_device))\n",
    "tf.config.experimental.set_memory_growth(physical_device[0], True)"
   ]
  },
  {
   "cell_type": "code",
   "execution_count": 9,
   "id": "55c2988b",
   "metadata": {},
   "outputs": [],
   "source": [
    "## Creating a sequential model\n",
    "# Sequential Model is a linear stack model\n",
    "model = Sequential([\n",
    "    Dense(units=49152, input_shape=(21,), activation='relu'), #First hidden layer\n",
    "    # input_shape - tells what's the model should expect for input\n",
    "    # units - numbers of nodes in that layer\n",
    "    # activation - 'relu' tells to follow the activation value\n",
    "    # Dense - a layer to tell fully connected layer\n",
    "#     Dense(units=64, activation='relu'),\n",
    "#     Dense(units=128, activation='relu'),\n",
    "#     Dense(units=512, activation='relu'),\n",
    "#     Dense(units=2048, activation='relu'),\n",
    "#     Dense(units=256, activation='relu'),\n",
    "#     Dense(units=128, activation='relu'),\n",
    "    Dense(units=5, activation='softmax')\n",
    "])"
   ]
  },
  {
   "cell_type": "code",
   "execution_count": 10,
   "id": "c2dfb86d",
   "metadata": {},
   "outputs": [
    {
     "name": "stdout",
     "output_type": "stream",
     "text": [
      "Model: \"sequential\"\n",
      "_________________________________________________________________\n",
      " Layer (type)                Output Shape              Param #   \n",
      "=================================================================\n",
      " dense (Dense)               (None, 49152)             1081344   \n",
      "                                                                 \n",
      " dense_1 (Dense)             (None, 5)                 245765    \n",
      "                                                                 \n",
      "=================================================================\n",
      "Total params: 1,327,109\n",
      "Trainable params: 1,327,109\n",
      "Non-trainable params: 0\n",
      "_________________________________________________________________\n"
     ]
    }
   ],
   "source": [
    "model.summary()"
   ]
  },
  {
   "cell_type": "code",
   "execution_count": 11,
   "id": "39680c01",
   "metadata": {},
   "outputs": [],
   "source": [
    "## Prepare model for training\n",
    "model.compile(optimizer=Adam(learning_rate=0.00001), loss='sparse_categorical_crossentropy', metrics=['accuracy'])\n"
   ]
  },
  {
   "cell_type": "code",
   "execution_count": 25,
   "id": "8fa0c432",
   "metadata": {},
   "outputs": [
    {
     "name": "stdout",
     "output_type": "stream",
     "text": [
      "Epoch 1/100\n",
      "47/47 - 0s - loss: 0.4074 - accuracy: 0.8650 - val_loss: 0.3812 - val_accuracy: 0.8809 - 410ms/epoch - 9ms/step\n",
      "Epoch 2/100\n",
      "47/47 - 1s - loss: 0.4054 - accuracy: 0.8658 - val_loss: 0.3808 - val_accuracy: 0.8809 - 515ms/epoch - 11ms/step\n",
      "Epoch 3/100\n",
      "47/47 - 1s - loss: 0.4040 - accuracy: 0.8656 - val_loss: 0.3779 - val_accuracy: 0.8848 - 575ms/epoch - 12ms/step\n",
      "Epoch 4/100\n",
      "47/47 - 1s - loss: 0.4022 - accuracy: 0.8676 - val_loss: 0.3767 - val_accuracy: 0.8848 - 563ms/epoch - 12ms/step\n",
      "Epoch 5/100\n",
      "47/47 - 0s - loss: 0.4002 - accuracy: 0.8663 - val_loss: 0.3743 - val_accuracy: 0.8828 - 477ms/epoch - 10ms/step\n",
      "Epoch 6/100\n",
      "47/47 - 1s - loss: 0.3986 - accuracy: 0.8656 - val_loss: 0.3713 - val_accuracy: 0.8848 - 550ms/epoch - 12ms/step\n",
      "Epoch 7/100\n",
      "47/47 - 0s - loss: 0.3972 - accuracy: 0.8686 - val_loss: 0.3723 - val_accuracy: 0.8809 - 500ms/epoch - 11ms/step\n",
      "Epoch 8/100\n",
      "47/47 - 0s - loss: 0.3949 - accuracy: 0.8673 - val_loss: 0.3688 - val_accuracy: 0.8848 - 494ms/epoch - 11ms/step\n",
      "Epoch 9/100\n",
      "47/47 - 1s - loss: 0.3936 - accuracy: 0.8713 - val_loss: 0.3687 - val_accuracy: 0.8848 - 561ms/epoch - 12ms/step\n",
      "Epoch 10/100\n",
      "47/47 - 1s - loss: 0.3918 - accuracy: 0.8704 - val_loss: 0.3657 - val_accuracy: 0.8867 - 569ms/epoch - 12ms/step\n",
      "Epoch 11/100\n",
      "47/47 - 1s - loss: 0.3901 - accuracy: 0.8706 - val_loss: 0.3653 - val_accuracy: 0.8828 - 521ms/epoch - 11ms/step\n",
      "Epoch 12/100\n",
      "47/47 - 1s - loss: 0.3882 - accuracy: 0.8723 - val_loss: 0.3628 - val_accuracy: 0.8867 - 553ms/epoch - 12ms/step\n",
      "Epoch 13/100\n",
      "47/47 - 0s - loss: 0.3868 - accuracy: 0.8728 - val_loss: 0.3628 - val_accuracy: 0.8867 - 499ms/epoch - 11ms/step\n",
      "Epoch 14/100\n",
      "47/47 - 1s - loss: 0.3859 - accuracy: 0.8697 - val_loss: 0.3597 - val_accuracy: 0.8848 - 550ms/epoch - 12ms/step\n",
      "Epoch 15/100\n",
      "47/47 - 0s - loss: 0.3839 - accuracy: 0.8758 - val_loss: 0.3597 - val_accuracy: 0.8926 - 486ms/epoch - 10ms/step\n",
      "Epoch 16/100\n",
      "47/47 - 1s - loss: 0.3825 - accuracy: 0.8721 - val_loss: 0.3570 - val_accuracy: 0.8867 - 505ms/epoch - 11ms/step\n",
      "Epoch 17/100\n",
      "47/47 - 0s - loss: 0.3814 - accuracy: 0.8730 - val_loss: 0.3573 - val_accuracy: 0.8828 - 458ms/epoch - 10ms/step\n",
      "Epoch 18/100\n",
      "47/47 - 0s - loss: 0.3797 - accuracy: 0.8723 - val_loss: 0.3553 - val_accuracy: 0.8887 - 498ms/epoch - 11ms/step\n",
      "Epoch 19/100\n",
      "47/47 - 1s - loss: 0.3777 - accuracy: 0.8747 - val_loss: 0.3542 - val_accuracy: 0.8867 - 545ms/epoch - 12ms/step\n",
      "Epoch 20/100\n",
      "47/47 - 1s - loss: 0.3766 - accuracy: 0.8749 - val_loss: 0.3531 - val_accuracy: 0.8867 - 547ms/epoch - 12ms/step\n",
      "Epoch 21/100\n",
      "47/47 - 1s - loss: 0.3760 - accuracy: 0.8739 - val_loss: 0.3507 - val_accuracy: 0.8867 - 559ms/epoch - 12ms/step\n",
      "Epoch 22/100\n",
      "47/47 - 1s - loss: 0.3738 - accuracy: 0.8749 - val_loss: 0.3494 - val_accuracy: 0.8848 - 560ms/epoch - 12ms/step\n",
      "Epoch 23/100\n",
      "47/47 - 1s - loss: 0.3721 - accuracy: 0.8765 - val_loss: 0.3508 - val_accuracy: 0.8887 - 561ms/epoch - 12ms/step\n",
      "Epoch 24/100\n",
      "47/47 - 1s - loss: 0.3714 - accuracy: 0.8743 - val_loss: 0.3452 - val_accuracy: 0.8848 - 547ms/epoch - 12ms/step\n",
      "Epoch 25/100\n",
      "47/47 - 1s - loss: 0.3696 - accuracy: 0.8767 - val_loss: 0.3467 - val_accuracy: 0.8828 - 545ms/epoch - 12ms/step\n",
      "Epoch 26/100\n",
      "47/47 - 1s - loss: 0.3686 - accuracy: 0.8762 - val_loss: 0.3441 - val_accuracy: 0.8867 - 503ms/epoch - 11ms/step\n",
      "Epoch 27/100\n",
      "47/47 - 1s - loss: 0.3672 - accuracy: 0.8758 - val_loss: 0.3424 - val_accuracy: 0.8887 - 545ms/epoch - 12ms/step\n",
      "Epoch 28/100\n",
      "47/47 - 1s - loss: 0.3658 - accuracy: 0.8769 - val_loss: 0.3433 - val_accuracy: 0.8887 - 500ms/epoch - 11ms/step\n",
      "Epoch 29/100\n",
      "47/47 - 1s - loss: 0.3648 - accuracy: 0.8776 - val_loss: 0.3420 - val_accuracy: 0.8887 - 544ms/epoch - 12ms/step\n",
      "Epoch 30/100\n",
      "47/47 - 1s - loss: 0.3631 - accuracy: 0.8767 - val_loss: 0.3395 - val_accuracy: 0.8887 - 529ms/epoch - 11ms/step\n",
      "Epoch 31/100\n",
      "47/47 - 1s - loss: 0.3619 - accuracy: 0.8771 - val_loss: 0.3389 - val_accuracy: 0.8867 - 579ms/epoch - 12ms/step\n",
      "Epoch 32/100\n",
      "47/47 - 1s - loss: 0.3612 - accuracy: 0.8782 - val_loss: 0.3365 - val_accuracy: 0.8867 - 541ms/epoch - 12ms/step\n",
      "Epoch 33/100\n",
      "47/47 - 1s - loss: 0.3604 - accuracy: 0.8776 - val_loss: 0.3345 - val_accuracy: 0.8906 - 573ms/epoch - 12ms/step\n",
      "Epoch 34/100\n",
      "47/47 - 1s - loss: 0.3583 - accuracy: 0.8786 - val_loss: 0.3351 - val_accuracy: 0.8906 - 545ms/epoch - 12ms/step\n",
      "Epoch 35/100\n",
      "47/47 - 1s - loss: 0.3570 - accuracy: 0.8795 - val_loss: 0.3333 - val_accuracy: 0.8887 - 500ms/epoch - 11ms/step\n",
      "Epoch 36/100\n",
      "47/47 - 1s - loss: 0.3563 - accuracy: 0.8799 - val_loss: 0.3350 - val_accuracy: 0.8906 - 567ms/epoch - 12ms/step\n",
      "Epoch 37/100\n",
      "47/47 - 1s - loss: 0.3550 - accuracy: 0.8799 - val_loss: 0.3306 - val_accuracy: 0.8867 - 576ms/epoch - 12ms/step\n",
      "Epoch 38/100\n",
      "47/47 - 1s - loss: 0.3535 - accuracy: 0.8799 - val_loss: 0.3295 - val_accuracy: 0.8887 - 514ms/epoch - 11ms/step\n",
      "Epoch 39/100\n",
      "47/47 - 1s - loss: 0.3524 - accuracy: 0.8823 - val_loss: 0.3291 - val_accuracy: 0.8887 - 500ms/epoch - 11ms/step\n",
      "Epoch 40/100\n",
      "47/47 - 1s - loss: 0.3511 - accuracy: 0.8817 - val_loss: 0.3278 - val_accuracy: 0.8906 - 549ms/epoch - 12ms/step\n",
      "Epoch 41/100\n",
      "47/47 - 1s - loss: 0.3498 - accuracy: 0.8821 - val_loss: 0.3294 - val_accuracy: 0.8906 - 531ms/epoch - 11ms/step\n",
      "Epoch 42/100\n",
      "47/47 - 0s - loss: 0.3489 - accuracy: 0.8830 - val_loss: 0.3270 - val_accuracy: 0.8926 - 482ms/epoch - 10ms/step\n",
      "Epoch 43/100\n",
      "47/47 - 1s - loss: 0.3476 - accuracy: 0.8817 - val_loss: 0.3250 - val_accuracy: 0.8906 - 549ms/epoch - 12ms/step\n",
      "Epoch 44/100\n",
      "47/47 - 1s - loss: 0.3468 - accuracy: 0.8856 - val_loss: 0.3229 - val_accuracy: 0.8887 - 526ms/epoch - 11ms/step\n",
      "Epoch 45/100\n",
      "47/47 - 1s - loss: 0.3454 - accuracy: 0.8812 - val_loss: 0.3236 - val_accuracy: 0.8926 - 517ms/epoch - 11ms/step\n",
      "Epoch 46/100\n",
      "47/47 - 1s - loss: 0.3443 - accuracy: 0.8823 - val_loss: 0.3214 - val_accuracy: 0.8926 - 567ms/epoch - 12ms/step\n",
      "Epoch 47/100\n",
      "47/47 - 1s - loss: 0.3435 - accuracy: 0.8832 - val_loss: 0.3199 - val_accuracy: 0.8906 - 538ms/epoch - 11ms/step\n",
      "Epoch 48/100\n",
      "47/47 - 1s - loss: 0.3421 - accuracy: 0.8832 - val_loss: 0.3195 - val_accuracy: 0.8887 - 508ms/epoch - 11ms/step\n",
      "Epoch 49/100\n",
      "47/47 - 1s - loss: 0.3418 - accuracy: 0.8843 - val_loss: 0.3201 - val_accuracy: 0.8965 - 512ms/epoch - 11ms/step\n",
      "Epoch 50/100\n",
      "47/47 - 1s - loss: 0.3406 - accuracy: 0.8832 - val_loss: 0.3174 - val_accuracy: 0.8926 - 501ms/epoch - 11ms/step\n",
      "Epoch 51/100\n",
      "47/47 - 1s - loss: 0.3399 - accuracy: 0.8858 - val_loss: 0.3157 - val_accuracy: 0.8926 - 507ms/epoch - 11ms/step\n",
      "Epoch 52/100\n",
      "47/47 - 1s - loss: 0.3383 - accuracy: 0.8849 - val_loss: 0.3167 - val_accuracy: 0.8926 - 572ms/epoch - 12ms/step\n",
      "Epoch 53/100\n",
      "47/47 - 1s - loss: 0.3368 - accuracy: 0.8865 - val_loss: 0.3156 - val_accuracy: 0.8945 - 529ms/epoch - 11ms/step\n",
      "Epoch 54/100\n",
      "47/47 - 1s - loss: 0.3358 - accuracy: 0.8849 - val_loss: 0.3124 - val_accuracy: 0.8926 - 502ms/epoch - 11ms/step\n",
      "Epoch 55/100\n",
      "47/47 - 1s - loss: 0.3350 - accuracy: 0.8867 - val_loss: 0.3143 - val_accuracy: 0.8945 - 545ms/epoch - 12ms/step\n",
      "Epoch 56/100\n",
      "47/47 - 1s - loss: 0.3337 - accuracy: 0.8891 - val_loss: 0.3122 - val_accuracy: 0.8926 - 506ms/epoch - 11ms/step\n",
      "Epoch 57/100\n",
      "47/47 - 1s - loss: 0.3328 - accuracy: 0.8878 - val_loss: 0.3123 - val_accuracy: 0.8926 - 503ms/epoch - 11ms/step\n",
      "Epoch 58/100\n",
      "47/47 - 1s - loss: 0.3315 - accuracy: 0.8888 - val_loss: 0.3094 - val_accuracy: 0.8945 - 553ms/epoch - 12ms/step\n",
      "Epoch 59/100\n",
      "47/47 - 1s - loss: 0.3311 - accuracy: 0.8893 - val_loss: 0.3105 - val_accuracy: 0.8945 - 529ms/epoch - 11ms/step\n",
      "Epoch 60/100\n",
      "47/47 - 1s - loss: 0.3302 - accuracy: 0.8897 - val_loss: 0.3077 - val_accuracy: 0.8906 - 538ms/epoch - 11ms/step\n",
      "Epoch 61/100\n",
      "47/47 - 1s - loss: 0.3290 - accuracy: 0.8897 - val_loss: 0.3079 - val_accuracy: 0.8945 - 532ms/epoch - 11ms/step\n",
      "Epoch 62/100\n",
      "47/47 - 1s - loss: 0.3283 - accuracy: 0.8908 - val_loss: 0.3082 - val_accuracy: 0.8945 - 544ms/epoch - 12ms/step\n",
      "Epoch 63/100\n",
      "47/47 - 1s - loss: 0.3276 - accuracy: 0.8897 - val_loss: 0.3053 - val_accuracy: 0.8926 - 588ms/epoch - 13ms/step\n",
      "Epoch 64/100\n",
      "47/47 - 0s - loss: 0.3265 - accuracy: 0.8917 - val_loss: 0.3068 - val_accuracy: 0.8965 - 498ms/epoch - 11ms/step\n",
      "Epoch 65/100\n",
      "47/47 - 1s - loss: 0.3253 - accuracy: 0.8888 - val_loss: 0.3046 - val_accuracy: 0.8965 - 576ms/epoch - 12ms/step\n",
      "Epoch 66/100\n"
     ]
    },
    {
     "name": "stdout",
     "output_type": "stream",
     "text": [
      "47/47 - 1s - loss: 0.3240 - accuracy: 0.8925 - val_loss: 0.3045 - val_accuracy: 0.8945 - 549ms/epoch - 12ms/step\n",
      "Epoch 67/100\n",
      "47/47 - 1s - loss: 0.3240 - accuracy: 0.8901 - val_loss: 0.3020 - val_accuracy: 0.8965 - 511ms/epoch - 11ms/step\n",
      "Epoch 68/100\n",
      "47/47 - 0s - loss: 0.3223 - accuracy: 0.8921 - val_loss: 0.3013 - val_accuracy: 0.8906 - 494ms/epoch - 11ms/step\n",
      "Epoch 69/100\n",
      "47/47 - 1s - loss: 0.3218 - accuracy: 0.8921 - val_loss: 0.3022 - val_accuracy: 0.8984 - 505ms/epoch - 11ms/step\n",
      "Epoch 70/100\n",
      "47/47 - 1s - loss: 0.3209 - accuracy: 0.8923 - val_loss: 0.3025 - val_accuracy: 0.8965 - 529ms/epoch - 11ms/step\n",
      "Epoch 71/100\n",
      "47/47 - 1s - loss: 0.3198 - accuracy: 0.8936 - val_loss: 0.2987 - val_accuracy: 0.8926 - 539ms/epoch - 11ms/step\n",
      "Epoch 72/100\n",
      "47/47 - 1s - loss: 0.3192 - accuracy: 0.8934 - val_loss: 0.2983 - val_accuracy: 0.8945 - 570ms/epoch - 12ms/step\n",
      "Epoch 73/100\n",
      "47/47 - 1s - loss: 0.3182 - accuracy: 0.8921 - val_loss: 0.2981 - val_accuracy: 0.8965 - 516ms/epoch - 11ms/step\n",
      "Epoch 74/100\n",
      "47/47 - 1s - loss: 0.3174 - accuracy: 0.8934 - val_loss: 0.2975 - val_accuracy: 0.8965 - 586ms/epoch - 12ms/step\n",
      "Epoch 75/100\n",
      "47/47 - 1s - loss: 0.3166 - accuracy: 0.8927 - val_loss: 0.2972 - val_accuracy: 0.8984 - 532ms/epoch - 11ms/step\n",
      "Epoch 76/100\n",
      "47/47 - 1s - loss: 0.3157 - accuracy: 0.8923 - val_loss: 0.2974 - val_accuracy: 0.8945 - 568ms/epoch - 12ms/step\n",
      "Epoch 77/100\n",
      "47/47 - 1s - loss: 0.3150 - accuracy: 0.8945 - val_loss: 0.2960 - val_accuracy: 0.8984 - 522ms/epoch - 11ms/step\n",
      "Epoch 78/100\n",
      "47/47 - 1s - loss: 0.3139 - accuracy: 0.8945 - val_loss: 0.2944 - val_accuracy: 0.8965 - 566ms/epoch - 12ms/step\n",
      "Epoch 79/100\n",
      "47/47 - 0s - loss: 0.3128 - accuracy: 0.8947 - val_loss: 0.2930 - val_accuracy: 0.8984 - 495ms/epoch - 11ms/step\n",
      "Epoch 80/100\n",
      "47/47 - 1s - loss: 0.3129 - accuracy: 0.8956 - val_loss: 0.2942 - val_accuracy: 0.8984 - 518ms/epoch - 11ms/step\n",
      "Epoch 81/100\n",
      "47/47 - 1s - loss: 0.3118 - accuracy: 0.8964 - val_loss: 0.2922 - val_accuracy: 0.8965 - 576ms/epoch - 12ms/step\n",
      "Epoch 82/100\n",
      "47/47 - 1s - loss: 0.3107 - accuracy: 0.8964 - val_loss: 0.2938 - val_accuracy: 0.9004 - 575ms/epoch - 12ms/step\n",
      "Epoch 83/100\n",
      "47/47 - 1s - loss: 0.3102 - accuracy: 0.8951 - val_loss: 0.2912 - val_accuracy: 0.8984 - 566ms/epoch - 12ms/step\n",
      "Epoch 84/100\n",
      "47/47 - 1s - loss: 0.3090 - accuracy: 0.8969 - val_loss: 0.2891 - val_accuracy: 0.8965 - 551ms/epoch - 12ms/step\n",
      "Epoch 85/100\n",
      "47/47 - 1s - loss: 0.3084 - accuracy: 0.8977 - val_loss: 0.2917 - val_accuracy: 0.8984 - 589ms/epoch - 13ms/step\n",
      "Epoch 86/100\n",
      "47/47 - 1s - loss: 0.3077 - accuracy: 0.8993 - val_loss: 0.2876 - val_accuracy: 0.8965 - 542ms/epoch - 12ms/step\n",
      "Epoch 87/100\n",
      "47/47 - 1s - loss: 0.3066 - accuracy: 0.8984 - val_loss: 0.2884 - val_accuracy: 0.9004 - 579ms/epoch - 12ms/step\n",
      "Epoch 88/100\n",
      "47/47 - 1s - loss: 0.3058 - accuracy: 0.8975 - val_loss: 0.2874 - val_accuracy: 0.9004 - 519ms/epoch - 11ms/step\n",
      "Epoch 89/100\n",
      "47/47 - 1s - loss: 0.3050 - accuracy: 0.8995 - val_loss: 0.2862 - val_accuracy: 0.8984 - 544ms/epoch - 12ms/step\n",
      "Epoch 90/100\n",
      "47/47 - 1s - loss: 0.3046 - accuracy: 0.8967 - val_loss: 0.2854 - val_accuracy: 0.8984 - 517ms/epoch - 11ms/step\n",
      "Epoch 91/100\n",
      "47/47 - 1s - loss: 0.3038 - accuracy: 0.8993 - val_loss: 0.2861 - val_accuracy: 0.8965 - 564ms/epoch - 12ms/step\n",
      "Epoch 92/100\n",
      "47/47 - 1s - loss: 0.3032 - accuracy: 0.8988 - val_loss: 0.2866 - val_accuracy: 0.8906 - 562ms/epoch - 12ms/step\n",
      "Epoch 93/100\n",
      "47/47 - 1s - loss: 0.3022 - accuracy: 0.8993 - val_loss: 0.2838 - val_accuracy: 0.8984 - 581ms/epoch - 12ms/step\n",
      "Epoch 94/100\n",
      "47/47 - 1s - loss: 0.3014 - accuracy: 0.8969 - val_loss: 0.2853 - val_accuracy: 0.9023 - 577ms/epoch - 12ms/step\n",
      "Epoch 95/100\n",
      "47/47 - 1s - loss: 0.3008 - accuracy: 0.8995 - val_loss: 0.2831 - val_accuracy: 0.9023 - 590ms/epoch - 13ms/step\n",
      "Epoch 96/100\n",
      "47/47 - 1s - loss: 0.3000 - accuracy: 0.8999 - val_loss: 0.2829 - val_accuracy: 0.8965 - 560ms/epoch - 12ms/step\n",
      "Epoch 97/100\n",
      "47/47 - 1s - loss: 0.3003 - accuracy: 0.8995 - val_loss: 0.2809 - val_accuracy: 0.9004 - 531ms/epoch - 11ms/step\n",
      "Epoch 98/100\n",
      "47/47 - 1s - loss: 0.2985 - accuracy: 0.8999 - val_loss: 0.2808 - val_accuracy: 0.9004 - 536ms/epoch - 11ms/step\n",
      "Epoch 99/100\n",
      "47/47 - 1s - loss: 0.2977 - accuracy: 0.9012 - val_loss: 0.2789 - val_accuracy: 0.8984 - 513ms/epoch - 11ms/step\n",
      "Epoch 100/100\n",
      "47/47 - 1s - loss: 0.2970 - accuracy: 0.8997 - val_loss: 0.2798 - val_accuracy: 0.8965 - 570ms/epoch - 12ms/step\n"
     ]
    },
    {
     "data": {
      "text/plain": [
       "<keras.callbacks.History at 0x29166b580>"
      ]
     },
     "execution_count": 25,
     "metadata": {},
     "output_type": "execute_result"
    }
   ],
   "source": [
    "## Training the model\n",
    "# batch_size - number of sample size pass to training at 1 time\n",
    "# epochs - number of time the model has to train on the sample\n",
    "# shuffle - default true\n",
    "# verbose - see output messsage\n",
    "# validation_split - tell how many percent are used to validate the model; validate use to tell if the model is overfit or underfit\n",
    "model.fit(x=scaled_train_samples, y=train_labels, validation_split=0.1, batch_size=100, epochs=100, shuffle=True, verbose=2)\n"
   ]
  },
  {
   "cell_type": "markdown",
   "id": "81d39ebd",
   "metadata": {},
   "source": [
    "# Generate Test Data"
   ]
  },
  {
   "cell_type": "code",
   "execution_count": 26,
   "id": "8dd74654",
   "metadata": {},
   "outputs": [],
   "source": [
    "test_labels = []\n",
    "test_samples = []"
   ]
  },
  {
   "cell_type": "code",
   "execution_count": 27,
   "id": "e84fdcbd",
   "metadata": {},
   "outputs": [],
   "source": [
    "## Read data from CSV file\n",
    "columns = ['left_knee_angle', 'left_hip_angle', 'left_ankle_angle', 'right_knee_angle', 'right_hip_angle', 'right_ankle_angle', 'left_hip_to_right_hip', 'left_torso_height_to_hip_width_ratio', 'right_torso_height_to_hip_width_ratio', 'shoulder_width_to_hip_width_ratio', 'left_thigh_height_to_hip_width_ratio', 'right_thigh_height_to_hip_width_ratio', 'left_shin_length_to_hip_width_ratio', 'right_shin_length_to_hip_width_ratio', 'left_ankle_to_left_heel_to_hip_width_ratio', 'left_heel_to_left_foot_index_to_hip_width_ratio', 'left_foot_index_to_left_ankle_to_hip_width_ratio', 'right_ankle_to_right_heel_to_hip_width_ratio', 'right_heel_to_right_foot_index_to_hip_width_ratio', 'right_foot_index_to_right_ankle_to_hip_width_ratio', 'knee_width_to_hip_width_ratio']\n",
    "labels = [\"acc\", \"ak\", \"bo\", \"kvg\", \"kvr\", \"hs\", \"others\"]\n",
    "path = 'assets/main_test.csv'\n",
    "\n",
    "with open(path, 'r') as file:\n",
    "\n",
    "    # Create a CSV reader object that reads the file as a dictionary\n",
    "    reader = csv.DictReader(file)\n",
    "\n",
    "    for r in reader:\n",
    "        \n",
    "        \n",
    "        if(labels.index(r['target']) != 6 and labels.index(r['target']) != 5):\n",
    "            \n",
    "            # Normalize vector\n",
    "            features = []\n",
    "        \n",
    "            for i in columns:\n",
    "                features.append(np.float_(r[i]))\n",
    "\n",
    "            # Add to arrays\n",
    "            test_samples.append(features)\n",
    "            test_labels.append(labels.index(r['target']))"
   ]
  },
  {
   "cell_type": "code",
   "execution_count": 28,
   "id": "020d38e6",
   "metadata": {},
   "outputs": [],
   "source": [
    "## Prepare input for Keras predict function\n",
    "test_labels = np.array(test_labels)\n",
    "test_samples = np.array(test_samples)\n",
    "test_labels, test_samples = shuffle(test_labels, test_samples) # This to eliminate order or patterns of the sample"
   ]
  },
  {
   "cell_type": "code",
   "execution_count": 29,
   "id": "1248e31a",
   "metadata": {},
   "outputs": [],
   "source": [
    "## Normalize the data to [0-1]\n",
    "scaler = MinMaxScaler(feature_range=(0,1))\n",
    "scaled_test_samples = scaler.fit_transform(test_samples) # reshape since fit_transform does not take 1D array"
   ]
  },
  {
   "cell_type": "markdown",
   "id": "3362dc23",
   "metadata": {},
   "source": [
    "# Predict"
   ]
  },
  {
   "cell_type": "code",
   "execution_count": 30,
   "id": "d4c09af2",
   "metadata": {},
   "outputs": [],
   "source": [
    "## Run prediction on the sample data\n",
    "predictions = model.predict(x=scaled_test_samples, batch_size=10, verbose=0)"
   ]
  },
  {
   "cell_type": "code",
   "execution_count": 31,
   "id": "928cc08e",
   "metadata": {},
   "outputs": [],
   "source": [
    "#Only select cells with higher probability\n",
    "round_predictions = np.argmax(predictions, axis=-1)"
   ]
  },
  {
   "cell_type": "code",
   "execution_count": 32,
   "id": "603b13ef",
   "metadata": {},
   "outputs": [
    {
     "name": "stdout",
     "output_type": "stream",
     "text": [
      "Test accuracy:  0.9431946006749157\n"
     ]
    }
   ],
   "source": [
    "## Print out data\n",
    "correct = 0\n",
    "j = 0\n",
    "for i in round_predictions:\n",
    "    if(i == test_labels[j]):\n",
    "        correct += 1\n",
    "    j += 1\n",
    "\n",
    "print('Test accuracy: ', correct/len(test_labels))"
   ]
  },
  {
   "cell_type": "markdown",
   "id": "55e04578",
   "metadata": {},
   "source": [
    "# Confusion Matrix"
   ]
  },
  {
   "cell_type": "code",
   "execution_count": 33,
   "id": "44665d88",
   "metadata": {},
   "outputs": [],
   "source": [
    "#!pip install matplotlib"
   ]
  },
  {
   "cell_type": "code",
   "execution_count": 34,
   "id": "effb680d",
   "metadata": {},
   "outputs": [],
   "source": [
    "%matplotlib inline\n",
    "from sklearn.metrics import confusion_matrix\n",
    "import itertools\n",
    "import matplotlib.pyplot as plt"
   ]
  },
  {
   "cell_type": "code",
   "execution_count": 35,
   "id": "bbd18acf",
   "metadata": {},
   "outputs": [],
   "source": [
    "## Create Confusion matrix\n",
    "cm = confusion_matrix(y_true = test_labels, y_pred = round_predictions)"
   ]
  },
  {
   "cell_type": "code",
   "execution_count": 36,
   "id": "22cbe7fd",
   "metadata": {},
   "outputs": [],
   "source": [
    "## Predefined function\n",
    "def plot_confusion_matrix(cm, classes,\n",
    "                        normalize=False,\n",
    "                        title='Confusion matrix',\n",
    "                        cmap=plt.cm.Blues):\n",
    "    \"\"\"\n",
    "    This function prints and plots the confusion matrix.\n",
    "    Normalization can be applied by setting `normalize=True`.\n",
    "    \"\"\"\n",
    "    plt.imshow(cm, interpolation='nearest', cmap=cmap)\n",
    "    plt.title(title)\n",
    "    plt.colorbar()\n",
    "    tick_marks = np.arange(len(classes))\n",
    "    plt.xticks(tick_marks, classes, rotation=45)\n",
    "    plt.yticks(tick_marks, classes)\n",
    "\n",
    "    if normalize:\n",
    "        cm = cm.astype('float') / cm.sum(axis=1)[:, np.newaxis]\n",
    "        print(\"Normalized confusion matrix\")\n",
    "    else:\n",
    "        print('Confusion matrix, without normalization')\n",
    "\n",
    "    print(cm)\n",
    "\n",
    "    thresh = cm.max() / 2.\n",
    "    for i, j in itertools.product(range(cm.shape[0]), range(cm.shape[1])):\n",
    "        plt.text(j, i, cm[i, j],\n",
    "            horizontalalignment=\"center\",\n",
    "            color=\"white\" if cm[i, j] > thresh else \"black\")"
   ]
  },
  {
   "cell_type": "code",
   "execution_count": 37,
   "id": "274fe643",
   "metadata": {},
   "outputs": [
    {
     "name": "stdout",
     "output_type": "stream",
     "text": [
      "Confusion matrix, without normalization\n",
      "[[336  16   0   0   2]\n",
      " [  0 362   0   0   0]\n",
      " [  0   0 326   0   0]\n",
      " [ 13  54   0 307   0]\n",
      " [  0  16   0   0 346]]\n"
     ]
    },
    {
     "data": {
      "image/png": "[encoded data removed]",
      "text/plain": [
       "<Figure size 640x480 with 2 Axes>"
      ]
     },
     "metadata": {},
     "output_type": "display_data"
    }
   ],
   "source": [
    "cm_plot_label = [\"acc\", \"ak\", \"bo\", \"kvg\", \"kvr\"]\n",
    "plot_confusion_matrix(cm=cm, classes=cm_plot_label, title='Confusion Matrix')"
   ]
  },
  {
   "cell_type": "markdown",
   "id": "14d5ffef",
   "metadata": {},
   "source": [
    "How to read the graph?\n",
    " - the number tells number of times the model predict that restult.\n",
    " - Example, model predict no_side_effects and a wrong prediction of had_side_effect 10 times.\n",
    " - Y-axise are exected class\n",
    " - X-axise are predicted class"
   ]
  },
  {
   "cell_type": "markdown",
   "id": "a852531a",
   "metadata": {},
   "source": [
    "# Save Model"
   ]
  },
  {
   "cell_type": "markdown",
   "id": "26a451e0",
   "metadata": {},
   "source": [
    "## 1. Model.save()"
   ]
  },
  {
   "cell_type": "code",
   "execution_count": 38,
   "id": "1fa96b22",
   "metadata": {},
   "outputs": [],
   "source": [
    "# Check first to see if file exists already.\n",
    "# If not, the model is saved to disk\n",
    "import os.path\n",
    "if os.path.isfile('/squatModel_noOther.h5') is False:\n",
    "    model.save('squatModel_noOther.h5')"
   ]
  },
  {
   "cell_type": "markdown",
   "id": "0a20909e",
   "metadata": {},
   "source": [
    "This saves...\n",
    " 1. The architecture of the model, allowing to re-create the model.\n",
    " 2. The weights of the model\n",
    " 3. The training configuration (loss, optimizer)\n",
    " 4. The state of the optimizer, allowing to resume training exactly where you left of"
   ]
  },
  {
   "cell_type": "markdown",
   "id": "a1b99f55",
   "metadata": {},
   "source": [
    "## 2. Load Model"
   ]
  },
  {
   "cell_type": "code",
   "execution_count": null,
   "id": "f2ac20b0",
   "metadata": {},
   "outputs": [],
   "source": [
    "from tensorflow.keras.models import load_model\n",
    "new_model = load_model('medical_trail_model.h5')"
   ]
  },
  {
   "cell_type": "code",
   "execution_count": null,
   "id": "987e5b36",
   "metadata": {},
   "outputs": [],
   "source": [
    "new_model.summary()"
   ]
  },
  {
   "cell_type": "code",
   "execution_count": null,
   "id": "559762f9",
   "metadata": {},
   "outputs": [],
   "source": [
    "new_model.get_weights()"
   ]
  },
  {
   "cell_type": "code",
   "execution_count": null,
   "id": "889051e0",
   "metadata": {},
   "outputs": [],
   "source": [
    "new_model.optimizer"
   ]
  },
  {
   "cell_type": "markdown",
   "id": "41ea2d9b",
   "metadata": {},
   "source": [
    "# Debugging Code"
   ]
  },
  {
   "cell_type": "code",
   "execution_count": null,
   "id": "d95158be",
   "metadata": {},
   "outputs": [],
   "source": [
    "# Test getCenter()\n",
    "(getCenter([0,8,8,8,0,16,8,16]) == [4,12])"
   ]
  },
  {
   "cell_type": "code",
   "execution_count": null,
   "id": "24f1f3b2",
   "metadata": {},
   "outputs": [],
   "source": [
    "# Test normalized()\n",
    "centerXY = getCenter([0,8,8,8,0,16,8,16])\n",
    "output = normalized([0,8], centerXY)\n",
    "print(output, \": expected [-0.5, -1/3]\")"
   ]
  },
  {
   "cell_type": "code",
   "execution_count": null,
   "id": "ad960204",
   "metadata": {},
   "outputs": [],
   "source": [
    "## Print out data\n",
    "for i in predictions:\n",
    "    print(i)"
   ]
  }
 ],
 "metadata": {
  "kernelspec": {
   "display_name": "TflowLaterVersion",
   "language": "python",
   "name": "tflowlaterversion"
  },
  "language_info": {
   "codemirror_mode": {
    "name": "ipython",
    "version": 3
   },
   "file_extension": ".py",
   "mimetype": "text/x-python",
   "name": "python",
   "nbconvert_exporter": "python",
   "pygments_lexer": "ipython3",
   "version": "3.8.16"
  }
 },
 "nbformat": 4,
 "nbformat_minor": 5
}
